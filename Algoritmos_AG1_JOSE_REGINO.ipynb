{
  "cells": [
    {
      "cell_type": "markdown",
      "metadata": {
        "id": "view-in-github",
        "colab_type": "text"
      },
      "source": [
        "<a href=\"https://colab.research.google.com/github/playapez/03MIAR_Algoritmos_de_Optimizacion_2023/blob/main/Algoritmos_AG1_JOSE_REGINO.ipynb\" target=\"_parent\"><img src=\"https://colab.research.google.com/assets/colab-badge.svg\" alt=\"Open In Colab\"/></a>"
      ]
    },
    {
      "cell_type": "markdown",
      "metadata": {
        "id": "kQn6fbhgtH9I"
      },
      "source": [
        "# Algoritmos - Actividad Guiada 1\n",
        "\n",
        "Profesor: Juan Francisco Vallalta Rueda<br>\n",
        "Estudiante: José Angel Regino Vergara<br>\n",
        "URL: https://colab.research.google.com/drive/1lJqfBFQFbfb39vkg9KlMqWj527tXl9uY?usp=sharing\n",
        "\n",
        "http:github.com/jvallalta/Algoritmos..\n"
      ]
    },
    {
      "cell_type": "markdown",
      "metadata": {
        "id": "_t62Ge7ZuKnC"
      },
      "source": [
        "## Torres de Hanoi con Divide y vencerás"
      ]
    },
    {
      "cell_type": "code",
      "execution_count": null,
      "metadata": {
        "colab": {
          "base_uri": "https://localhost:8080/"
        },
        "id": "i32G0CUQvauE",
        "outputId": "c3398cec-661d-46a5-b9db-0a0ad168f64a"
      },
      "outputs": [
        {
          "name": "stdout",
          "output_type": "stream",
          "text": [
            "Lleva la ficha  1  hasta  3\n",
            "Lleva la ficha  1  hasta  2\n",
            "Lleva la ficha  3  hasta  2\n",
            "Lleva la ficha  1  hasta  3\n",
            "Lleva la ficha  2  hasta  1\n",
            "Lleva la ficha  2  hasta  3\n",
            "Lleva la ficha  1  hasta  3\n"
          ]
        }
      ],
      "source": [
        "def Torres_Hanoi(N, desde, hasta):\n",
        "  if N ==1 :\n",
        "    print(\"Lleva la ficha \" ,desde , \" hasta \", hasta )\n",
        "\n",
        "  else:\n",
        "    #Torres_Hanoi(N-1, desde, 6-desde-hasta )\n",
        "    Torres_Hanoi(N-1, desde, 6-desde-hasta )\n",
        "    print(\"Lleva la ficha \" ,desde , \" hasta \", hasta )\n",
        "    #Torres_Hanoi(N-1,6-desde-hasta, hasta )\n",
        "    Torres_Hanoi(N-1, 6-desde-hasta  , hasta )\n",
        "\n",
        "\n",
        "Torres_Hanoi(3, 1 , 3)"
      ]
    },
    {
      "cell_type": "code",
      "execution_count": null,
      "metadata": {
        "colab": {
          "base_uri": "https://localhost:8080/"
        },
        "id": "74qZZAekiNYR",
        "outputId": "acc17268-7f87-4de4-ae5a-4fc6ce09d385"
      },
      "outputs": [
        {
          "data": {
            "text/plain": [
              "8"
            ]
          },
          "execution_count": 2,
          "metadata": {},
          "output_type": "execute_result"
        }
      ],
      "source": [
        "#Sucesión_de_Fibonacci\n",
        "#https://es.wikipedia.org/wiki/Sucesi%C3%B3n_de_Fibonacci\n",
        "#Calculo del termino n-simo de la suscesión de Fibonacci\n",
        "def Fibonacci(N:int):\n",
        "  if N < 2:\n",
        "    return 1\n",
        "  else:\n",
        "    return Fibonacci(N-1)+Fibonacci(N-2)\n",
        "\n",
        "Fibonacci(5)"
      ]
    },
    {
      "cell_type": "markdown",
      "metadata": {
        "id": "RgT5XJsZ429L"
      },
      "source": [
        "## Devolución de cambio por técnica voraz"
      ]
    },
    {
      "cell_type": "code",
      "execution_count": null,
      "metadata": {
        "colab": {
          "base_uri": "https://localhost:8080/"
        },
        "id": "uJtftBLU4-ap",
        "outputId": "b52f7a2c-771b-4c2e-81ab-c4c3ea01318d"
      },
      "outputs": [
        {
          "data": {
            "text/plain": [
              "[0, 1, 1, 0]"
            ]
          },
          "execution_count": 7,
          "metadata": {},
          "output_type": "execute_result"
        }
      ],
      "source": [
        "def cambio_monedas(N, SM):\n",
        "  SOLUCION = [0]*len(SM)   #SOLUCION = [0,0,0,0,..]\n",
        "  ValorAcumulado = 0\n",
        "\n",
        "  for i,valor in enumerate(SM):\n",
        "    monedas =  (N-ValorAcumulado)//valor\n",
        "    SOLUCION[i] = monedas\n",
        "    ValorAcumulado = ValorAcumulado + monedas*valor\n",
        "\n",
        "    if ValorAcumulado == N:\n",
        "      return SOLUCION\n",
        "\n",
        "\n",
        "cambio_monedas(15,[25,10,5,1])"
      ]
    },
    {
      "cell_type": "markdown",
      "metadata": {
        "id": "g8M9GTvy_Fa3"
      },
      "source": [
        "## N-Reinas por técnica de vueta atrás\n"
      ]
    },
    {
      "cell_type": "code",
      "execution_count": null,
      "metadata": {
        "id": "FqOPyCmv_K65"
      },
      "outputs": [],
      "source": [
        "def escribe(S):\n",
        "  n = len(S)\n",
        "  for x in range(n):\n",
        "    print(\"\")\n",
        "    for i in range(n):\n",
        "      if S[i] == x+1:\n",
        "        print(\" X \" , end=\"\")\n",
        "      else:\n",
        "        print(\" - \", end=\"\")\n",
        "\n",
        "\n",
        "def es_prometedora(SOLUCION,etapa):\n",
        "  #print(SOLUCION)\n",
        "  #Si la solución tiene dos valores iguales no es valida => Dos reinas en la misma fila\n",
        "  for i in range(etapa+1):\n",
        "    #print(\"El valor \" + str(SOLUCION[i]) + \" está \" +  str(SOLUCION.count(SOLUCION[i])) + \" veces\")\n",
        "    if SOLUCION.count(SOLUCION[i]) > 1:\n",
        "      return False\n",
        "\n",
        "    #Verifica las diagonales\n",
        "    for j in range(i+1, etapa +1 ):\n",
        "      #print(\"Comprobando diagonal de \" + str(i) + \" y \" + str(j))\n",
        "      if abs(i-j) == abs(SOLUCION[i]-SOLUCION[j]) : return False\n",
        "  return True\n",
        "\n",
        "\n",
        "\n",
        "def reinas(N, solucion=[], etapa=0):\n",
        "  if len(solucion) == 0:\n",
        "      solucion=[0 for i in range(N)]\n",
        "\n",
        "  for i in range(1, N+1):\n",
        "    solucion[etapa] = i\n",
        "\n",
        "    if es_prometedora(solucion, etapa):\n",
        "      if etapa == N-1:\n",
        "        print(solucion)\n",
        "        #escribe(solucion)\n",
        "        print()\n",
        "      else:\n",
        "        reinas(N, solucion, etapa+1)\n",
        "    else:\n",
        "      None\n",
        "\n",
        "    solucion[etapa] = 0\n",
        "\n",
        "reinas(8)"
      ]
    }
  ],
  "metadata": {
    "colab": {
      "provenance": [],
      "toc_visible": true,
      "include_colab_link": true
    },
    "kernelspec": {
      "display_name": "Python 3 (ipykernel)",
      "language": "python",
      "name": "python3"
    },
    "language_info": {
      "codemirror_mode": {
        "name": "ipython",
        "version": 3
      },
      "file_extension": ".py",
      "mimetype": "text/x-python",
      "name": "python",
      "nbconvert_exporter": "python",
      "pygments_lexer": "ipython3",
      "version": "3.9.7"
    }
  },
  "nbformat": 4,
  "nbformat_minor": 0
}