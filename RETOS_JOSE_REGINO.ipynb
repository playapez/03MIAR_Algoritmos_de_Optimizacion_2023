{
  "cells": [
    {
      "cell_type": "markdown",
      "metadata": {
        "id": "view-in-github",
        "colab_type": "text"
      },
      "source": [
        "<a href=\"https://colab.research.google.com/github/playapez/03MIAR_Algoritmos_de_Optimizacion_2023/blob/main/RETOS_JOSE_REGINO.ipynb\" target=\"_parent\"><img src=\"https://colab.research.google.com/assets/colab-badge.svg\" alt=\"Open In Colab\"/></a>"
      ]
    },
    {
      "cell_type": "markdown",
      "id": "5bae1ac7",
      "metadata": {
        "id": "5bae1ac7"
      },
      "source": [
        "<font color=\"#002856\"><h1 align=\"left\">Algoritmos de optimización</h1></font>\n",
        "<font color=\"#002856\"><h2 align=\"left\">VC-1 Introducción a los algoritmos</h2></font>\n",
        "\n",
        "#### Profesor: Juan Francisco Vallalta Rueda\n",
        "#### Estudiante: Jose Angel Regino Vergara\n",
        "---"
      ]
    },
    {
      "cell_type": "markdown",
      "id": "d6a8c0a8",
      "metadata": {
        "id": "d6a8c0a8"
      },
      "source": [
        "# Medir el tiempo de ejecución"
      ]
    },
    {
      "cell_type": "markdown",
      "id": "e37d9b38",
      "metadata": {
        "id": "e37d9b38"
      },
      "source": [
        "Medir el tiempo de ejecución de un programa es una tarea muy importante, ya que programar no sólo consiste en crear código que funcione, sino código que pueda ser ejecutado en un tiempo razonable.\n",
        "\n",
        "La librería **time** nos permite medir el tiempo de ejecución en Python, utilizando el método  `time()`."
      ]
    },
    {
      "cell_type": "code",
      "execution_count": null,
      "id": "dc20e4d2",
      "metadata": {
        "colab": {
          "base_uri": "https://localhost:8080/"
        },
        "id": "dc20e4d2",
        "outputId": "58a30887-83e1-40b7-be77-35cb4e546bac"
      },
      "outputs": [
        {
          "output_type": "stream",
          "name": "stdout",
          "text": [
            "10.0106360912323\n"
          ]
        }
      ],
      "source": [
        "# Medida del tiempo de ejecucion con time\n",
        "import time\n",
        "inicio = time.time()\n",
        "\n",
        "# Código a medir\n",
        "time.sleep(10)\n",
        "# -------------\n",
        "\n",
        "fin = time.time()\n",
        "print(fin-inicio) # 1.0005340576171875"
      ]
    },
    {
      "cell_type": "markdown",
      "id": "52b5fc0a",
      "metadata": {
        "id": "52b5fc0a"
      },
      "source": [
        "# Generación de números enteros aleatorios"
      ]
    },
    {
      "cell_type": "code",
      "execution_count": null,
      "id": "ca5148de",
      "metadata": {
        "colab": {
          "base_uri": "https://localhost:8080/"
        },
        "id": "ca5148de",
        "outputId": "4ba024c0-3143-419b-8517-a3c6b11a2d8a"
      },
      "outputs": [
        {
          "output_type": "stream",
          "name": "stdout",
          "text": [
            "[787, 518, 995, 403, 71, 75, 283, 298, 956, 383, 831, 371, 275, 256, 370, 22, 30, 994, 442, 910, 578, 696, 563, 804, 603, 600, 269, 836, 492, 108, 823, 488, 831, 548, 807, 865, 443, 841, 625, 808, 440, 651, 851, 850, 267, 339, 46, 393, 463, 549, 581, 742, 725, 342, 44, 947, 594, 330, 648, 269, 46, 487, 373, 382, 584, 694, 0, 987, 515, 697, 744, 684, 476, 240, 517, 139, 382, 392, 164, 768, 805, 563, 285, 703, 674, 472, 353, 173, 853, 169, 483, 121, 992, 901, 45, 867, 243, 598, 174, 242]\n"
          ]
        }
      ],
      "source": [
        "# Mödulo random\n",
        "import random\n",
        "\n",
        "# Inicialización del rango de números a generar\n",
        "inicio= 0\n",
        "fin = 1000\n",
        "cantidad = 100\n",
        "\n",
        "# Lista de números aleatorios\n",
        "numeros_aleatorios = [random.randint(inicio,fin) for i in range(cantidad)]\n",
        "print(numeros_aleatorios)"
      ]
    },
    {
      "cell_type": "markdown",
      "id": "c43d5913",
      "metadata": {
        "id": "c43d5913"
      },
      "source": [
        "# Ejercicios\n",
        "\n",
        "## Implementa  el algoritmo de Euclides para el cálculo del máximo común divisor de dos números enteros"
      ]
    },
    {
      "cell_type": "code",
      "execution_count": null,
      "id": "af0a8a64",
      "metadata": {
        "id": "af0a8a64"
      },
      "outputs": [],
      "source": [
        "# Algoritmos de Euclides.\n",
        "\n",
        "def euclides_mcd(a, b):\n",
        "    while b != 0:\n",
        "        a, b = b, a % b\n",
        "    return a\n"
      ]
    },
    {
      "cell_type": "code",
      "execution_count": null,
      "id": "81bea47d",
      "metadata": {
        "colab": {
          "base_uri": "https://localhost:8080/"
        },
        "id": "81bea47d",
        "outputId": "4ffc26c9-1b51-440c-efd5-f030ca6cb2d0"
      },
      "outputs": [
        {
          "output_type": "stream",
          "name": "stdout",
          "text": [
            "El máximo MCD de 120 y 156 es: 12\n"
          ]
        }
      ],
      "source": [
        "# Prueba del algoritmo\n",
        "num1 = 120\n",
        "num2 = 156\n",
        "mcd = euclides_mcd(num1, num2)\n",
        "print(\"El máximo MCD de\", num1, \"y\", num2, \"es:\", mcd)\n"
      ]
    },
    {
      "cell_type": "markdown",
      "id": "fab2198d",
      "metadata": {
        "id": "fab2198d"
      },
      "source": [
        "## Implementa el algoritmo de Herón para el cálculo de la raiz cuadrada de un número entero. Calcula la raiz cuadrada de 13 con un error inferior a 0.000001"
      ]
    },
    {
      "cell_type": "code",
      "execution_count": null,
      "id": "5108153f",
      "metadata": {
        "id": "5108153f"
      },
      "outputs": [],
      "source": [
        "# Algoritmo de Herón\n",
        "\n",
        "def heron_r2(n, error):\n",
        "    est_ini = n / 2\n",
        "\n",
        "    while abs(est_ini**2 - n) > error:\n",
        "        est_ini = (est_ini + n / est_ini) / 2\n",
        "\n",
        "    return est_ini\n"
      ]
    },
    {
      "cell_type": "code",
      "execution_count": null,
      "id": "32bfcfe8",
      "metadata": {
        "colab": {
          "base_uri": "https://localhost:8080/"
        },
        "id": "32bfcfe8",
        "outputId": "370a5fbc-486f-486d-a16b-ade0a1e116d6"
      },
      "outputs": [
        {
          "output_type": "stream",
          "name": "stdout",
          "text": [
            "La raíz cuadrada de 13 es: 3.6055512902583184\n"
          ]
        }
      ],
      "source": [
        "# Prueba del algoritmo\n",
        "number = 13\n",
        "error = 0.000001\n",
        "R2 = heron_r2(number, error)\n",
        "\n",
        "print(\"La raíz cuadrada de\", number, \"es:\", R2)\n"
      ]
    },
    {
      "cell_type": "markdown",
      "id": "9cbf8561",
      "metadata": {
        "id": "9cbf8561"
      },
      "source": [
        "# Reto VC-1\n",
        "\n",
        "## Implementa el algoritmo de la Criba de Erastótenes para encontrar número primos. Encuentra los números primos entre los 10.000 primeros números naturales"
      ]
    },
    {
      "cell_type": "code",
      "execution_count": null,
      "id": "288b5db6",
      "metadata": {
        "id": "288b5db6"
      },
      "outputs": [],
      "source": [
        "# Criba de Erastótenes\n",
        "# Escribe a ti tu código\n",
        "def criba_eratostenes(n): # Se define la función\n",
        "    primos = [] #Lista vacia para obtener los números primos\n",
        "    no_primos = [] # Lista vacia para llenar con los números dónde se calcula los multiplos de cada n\n",
        "\n",
        "    for i in range(2, n + 1): # Se inicia el cilo con el primer número primo (2), y \"n+1\" es el límite superior del número ingresado, con paso de 1\n",
        "        if i not in no_primos: # Los números que no se descartan de las iteraciones será lista que se va llenando con los números primos.\n",
        "            primos.append(i) # Llenado de la lista de # primos.\n",
        "\n",
        "            for j in range(i * i, n + 1, i): # i*i nos permite obtner los multiplos del número, los multiplos más pequeños fueron descartados en iteraciones anteriores\n",
        "                no_primos.append(j) #Lista con los multiplos de n\n",
        "\n",
        "    return primos\n",
        "\n"
      ]
    },
    {
      "cell_type": "code",
      "source": [
        "# Prueba del algoritmo\n",
        "criba_eratostenes(100)"
      ],
      "metadata": {
        "colab": {
          "base_uri": "https://localhost:8080/"
        },
        "id": "4Iqn0ZkN7eJL",
        "outputId": "c116287d-556a-407c-9dfc-fd7fcf33b540"
      },
      "id": "4Iqn0ZkN7eJL",
      "execution_count": null,
      "outputs": [
        {
          "output_type": "execute_result",
          "data": {
            "text/plain": [
              "[2,\n",
              " 3,\n",
              " 5,\n",
              " 7,\n",
              " 11,\n",
              " 13,\n",
              " 17,\n",
              " 19,\n",
              " 23,\n",
              " 29,\n",
              " 31,\n",
              " 37,\n",
              " 41,\n",
              " 43,\n",
              " 47,\n",
              " 53,\n",
              " 59,\n",
              " 61,\n",
              " 67,\n",
              " 71,\n",
              " 73,\n",
              " 79,\n",
              " 83,\n",
              " 89,\n",
              " 97]"
            ]
          },
          "metadata": {},
          "execution_count": 3
        }
      ]
    },
    {
      "cell_type": "markdown",
      "source": [
        "# Reto VC-2\n",
        "\n",
        "## Opción 1: Implementa una solución al problema de las 8 reinas en un tablero 8x8"
      ],
      "metadata": {
        "id": "XFNvzNA1xSBU"
      },
      "id": "XFNvzNA1xSBU"
    },
    {
      "cell_type": "code",
      "source": [
        "global N\n",
        "N = 8\n",
        "\n",
        "  #Imprimir tablero\n",
        "def printSolution(board):\n",
        "      for i in range(N):\n",
        "          for j in range(N):\n",
        "              if board[i][j] == 1:\n",
        "                  print(\"Q\",end=\" \")\n",
        "              else:\n",
        "                  print(\".\",end=\" \")\n",
        "          print()\n",
        "\n",
        "\n",
        "  # Verficar lados\n",
        "def isSafe(board, row, col):\n",
        "\n",
        "      # Lado izquierdo\n",
        "      for i in range(col):\n",
        "          if board[row][i] == 1:\n",
        "              return False\n",
        "      # Lado superior izquierdo\n",
        "      for i, j in zip(range(row, -1, -1),\n",
        "                      range(col, -1, -1)):\n",
        "          if board[i][j] == 1:\n",
        "              return False\n",
        "\n",
        "      # Lado inferior izquierdo\n",
        "      for i, j in zip(range(row, N, 1),\n",
        "                      range(col, -1, -1)):\n",
        "          if board[i][j] == 1:\n",
        "              return False\n",
        "\n",
        "      return True\n",
        "\n",
        "# Cambio por lados\n",
        "def solve(board, col):\n",
        "\n",
        "      if col >= N:\n",
        "          return True\n",
        "\n",
        "      for i in range(N):\n",
        "\n",
        "          if isSafe(board, i, col):\n",
        "\n",
        "              board[i][col] = 1\n",
        "\n",
        "              if solve(board, col + 1) == True:\n",
        "                  return True\n",
        "\n",
        "              board[i][col] = 0\n",
        "\n",
        "      return False\n",
        "\n",
        "\n",
        "\n",
        "def result():\n",
        "      board = [[0, 0, 0, 0, 0, 0, 0, 0],\n",
        "              [0, 0, 0, 0, 0, 0, 0, 0],\n",
        "              [0, 0, 0, 0, 0, 0, 0, 0],\n",
        "              [0, 0, 0, 0, 0, 0, 0, 0],\n",
        "              [0, 0, 0, 0, 0, 0, 0, 0],\n",
        "              [0, 0, 0, 0, 0, 0, 0, 0],\n",
        "              [0, 0, 0, 0, 0, 0, 0, 0],\n",
        "              [0, 0, 0, 0, 0, 0, 0, 0]]\n",
        "\n",
        "      if solve(board, 0) == False:\n",
        "          print(\"wrong\")\n",
        "          return False\n",
        "\n",
        "      printSolution(board)\n",
        "      return True\n",
        "\n",
        "if __name__== '__main__':\n",
        "    result()\n"
      ],
      "metadata": {
        "colab": {
          "base_uri": "https://localhost:8080/"
        },
        "id": "-6MW_6MOyQYr",
        "outputId": "e70760ec-8d39-48e3-d2d6-b0e6745982ef"
      },
      "id": "-6MW_6MOyQYr",
      "execution_count": 8,
      "outputs": [
        {
          "output_type": "stream",
          "name": "stdout",
          "text": [
            "Q . . . . . . . \n",
            ". . . . . . Q . \n",
            ". . . . Q . . . \n",
            ". . . . . . . Q \n",
            ". Q . . . . . . \n",
            ". . . Q . . . . \n",
            ". . . . . Q . . \n",
            ". . Q . . . . . \n"
          ]
        }
      ]
    },
    {
      "cell_type": "markdown",
      "source": [
        "# Reto VC-2\n",
        "\n",
        "## Opción 2: Implementa una solución del problema de las Torres de Hanoi para un número arbitrario n de fichas"
      ],
      "metadata": {
        "id": "WaCGApTuzjh_"
      },
      "id": "WaCGApTuzjh_"
    },
    {
      "cell_type": "code",
      "source": [
        "def TorresHanoi(n, de_poste, a_poste, aux_poste):\n",
        "    if n == 0:\n",
        "        return\n",
        "    TorresHanoi(n-1, de_poste, aux_poste, a_poste)\n",
        "    print(\"Mover disco\", n, \"de poste\", de_poste, \"a poste\", a_poste)\n",
        "    TorresHanoi(n-1, aux_poste, a_poste, de_poste)\n",
        "TorresHanoi(N, 'A', 'C', 'B')"
      ],
      "metadata": {
        "colab": {
          "base_uri": "https://localhost:8080/"
        },
        "id": "aQeUHRf2z3Zx",
        "outputId": "3ee12eac-746b-4087-b905-720cc424497d"
      },
      "id": "aQeUHRf2z3Zx",
      "execution_count": 5,
      "outputs": [
        {
          "output_type": "stream",
          "name": "stdout",
          "text": [
            "Mover disco 1 de poste A a poste B\n",
            "Mover disco 2 de poste A a poste C\n",
            "Mover disco 1 de poste B a poste C\n",
            "Mover disco 3 de poste A a poste B\n",
            "Mover disco 1 de poste C a poste A\n",
            "Mover disco 2 de poste C a poste B\n",
            "Mover disco 1 de poste A a poste B\n",
            "Mover disco 4 de poste A a poste C\n",
            "Mover disco 1 de poste B a poste C\n",
            "Mover disco 2 de poste B a poste A\n",
            "Mover disco 1 de poste C a poste A\n",
            "Mover disco 3 de poste B a poste C\n",
            "Mover disco 1 de poste A a poste B\n",
            "Mover disco 2 de poste A a poste C\n",
            "Mover disco 1 de poste B a poste C\n",
            "Mover disco 5 de poste A a poste B\n",
            "Mover disco 1 de poste C a poste A\n",
            "Mover disco 2 de poste C a poste B\n",
            "Mover disco 1 de poste A a poste B\n",
            "Mover disco 3 de poste C a poste A\n",
            "Mover disco 1 de poste B a poste C\n",
            "Mover disco 2 de poste B a poste A\n",
            "Mover disco 1 de poste C a poste A\n",
            "Mover disco 4 de poste C a poste B\n",
            "Mover disco 1 de poste A a poste B\n",
            "Mover disco 2 de poste A a poste C\n",
            "Mover disco 1 de poste B a poste C\n",
            "Mover disco 3 de poste A a poste B\n",
            "Mover disco 1 de poste C a poste A\n",
            "Mover disco 2 de poste C a poste B\n",
            "Mover disco 1 de poste A a poste B\n",
            "Mover disco 6 de poste A a poste C\n",
            "Mover disco 1 de poste B a poste C\n",
            "Mover disco 2 de poste B a poste A\n",
            "Mover disco 1 de poste C a poste A\n",
            "Mover disco 3 de poste B a poste C\n",
            "Mover disco 1 de poste A a poste B\n",
            "Mover disco 2 de poste A a poste C\n",
            "Mover disco 1 de poste B a poste C\n",
            "Mover disco 4 de poste B a poste A\n",
            "Mover disco 1 de poste C a poste A\n",
            "Mover disco 2 de poste C a poste B\n",
            "Mover disco 1 de poste A a poste B\n",
            "Mover disco 3 de poste C a poste A\n",
            "Mover disco 1 de poste B a poste C\n",
            "Mover disco 2 de poste B a poste A\n",
            "Mover disco 1 de poste C a poste A\n",
            "Mover disco 5 de poste B a poste C\n",
            "Mover disco 1 de poste A a poste B\n",
            "Mover disco 2 de poste A a poste C\n",
            "Mover disco 1 de poste B a poste C\n",
            "Mover disco 3 de poste A a poste B\n",
            "Mover disco 1 de poste C a poste A\n",
            "Mover disco 2 de poste C a poste B\n",
            "Mover disco 1 de poste A a poste B\n",
            "Mover disco 4 de poste A a poste C\n",
            "Mover disco 1 de poste B a poste C\n",
            "Mover disco 2 de poste B a poste A\n",
            "Mover disco 1 de poste C a poste A\n",
            "Mover disco 3 de poste B a poste C\n",
            "Mover disco 1 de poste A a poste B\n",
            "Mover disco 2 de poste A a poste C\n",
            "Mover disco 1 de poste B a poste C\n",
            "Mover disco 7 de poste A a poste B\n",
            "Mover disco 1 de poste C a poste A\n",
            "Mover disco 2 de poste C a poste B\n",
            "Mover disco 1 de poste A a poste B\n",
            "Mover disco 3 de poste C a poste A\n",
            "Mover disco 1 de poste B a poste C\n",
            "Mover disco 2 de poste B a poste A\n",
            "Mover disco 1 de poste C a poste A\n",
            "Mover disco 4 de poste C a poste B\n",
            "Mover disco 1 de poste A a poste B\n",
            "Mover disco 2 de poste A a poste C\n",
            "Mover disco 1 de poste B a poste C\n",
            "Mover disco 3 de poste A a poste B\n",
            "Mover disco 1 de poste C a poste A\n",
            "Mover disco 2 de poste C a poste B\n",
            "Mover disco 1 de poste A a poste B\n",
            "Mover disco 5 de poste C a poste A\n",
            "Mover disco 1 de poste B a poste C\n",
            "Mover disco 2 de poste B a poste A\n",
            "Mover disco 1 de poste C a poste A\n",
            "Mover disco 3 de poste B a poste C\n",
            "Mover disco 1 de poste A a poste B\n",
            "Mover disco 2 de poste A a poste C\n",
            "Mover disco 1 de poste B a poste C\n",
            "Mover disco 4 de poste B a poste A\n",
            "Mover disco 1 de poste C a poste A\n",
            "Mover disco 2 de poste C a poste B\n",
            "Mover disco 1 de poste A a poste B\n",
            "Mover disco 3 de poste C a poste A\n",
            "Mover disco 1 de poste B a poste C\n",
            "Mover disco 2 de poste B a poste A\n",
            "Mover disco 1 de poste C a poste A\n",
            "Mover disco 6 de poste C a poste B\n",
            "Mover disco 1 de poste A a poste B\n",
            "Mover disco 2 de poste A a poste C\n",
            "Mover disco 1 de poste B a poste C\n",
            "Mover disco 3 de poste A a poste B\n",
            "Mover disco 1 de poste C a poste A\n",
            "Mover disco 2 de poste C a poste B\n",
            "Mover disco 1 de poste A a poste B\n",
            "Mover disco 4 de poste A a poste C\n",
            "Mover disco 1 de poste B a poste C\n",
            "Mover disco 2 de poste B a poste A\n",
            "Mover disco 1 de poste C a poste A\n",
            "Mover disco 3 de poste B a poste C\n",
            "Mover disco 1 de poste A a poste B\n",
            "Mover disco 2 de poste A a poste C\n",
            "Mover disco 1 de poste B a poste C\n",
            "Mover disco 5 de poste A a poste B\n",
            "Mover disco 1 de poste C a poste A\n",
            "Mover disco 2 de poste C a poste B\n",
            "Mover disco 1 de poste A a poste B\n",
            "Mover disco 3 de poste C a poste A\n",
            "Mover disco 1 de poste B a poste C\n",
            "Mover disco 2 de poste B a poste A\n",
            "Mover disco 1 de poste C a poste A\n",
            "Mover disco 4 de poste C a poste B\n",
            "Mover disco 1 de poste A a poste B\n",
            "Mover disco 2 de poste A a poste C\n",
            "Mover disco 1 de poste B a poste C\n",
            "Mover disco 3 de poste A a poste B\n",
            "Mover disco 1 de poste C a poste A\n",
            "Mover disco 2 de poste C a poste B\n",
            "Mover disco 1 de poste A a poste B\n",
            "Mover disco 8 de poste A a poste C\n",
            "Mover disco 1 de poste B a poste C\n",
            "Mover disco 2 de poste B a poste A\n",
            "Mover disco 1 de poste C a poste A\n",
            "Mover disco 3 de poste B a poste C\n",
            "Mover disco 1 de poste A a poste B\n",
            "Mover disco 2 de poste A a poste C\n",
            "Mover disco 1 de poste B a poste C\n",
            "Mover disco 4 de poste B a poste A\n",
            "Mover disco 1 de poste C a poste A\n",
            "Mover disco 2 de poste C a poste B\n",
            "Mover disco 1 de poste A a poste B\n",
            "Mover disco 3 de poste C a poste A\n",
            "Mover disco 1 de poste B a poste C\n",
            "Mover disco 2 de poste B a poste A\n",
            "Mover disco 1 de poste C a poste A\n",
            "Mover disco 5 de poste B a poste C\n",
            "Mover disco 1 de poste A a poste B\n",
            "Mover disco 2 de poste A a poste C\n",
            "Mover disco 1 de poste B a poste C\n",
            "Mover disco 3 de poste A a poste B\n",
            "Mover disco 1 de poste C a poste A\n",
            "Mover disco 2 de poste C a poste B\n",
            "Mover disco 1 de poste A a poste B\n",
            "Mover disco 4 de poste A a poste C\n",
            "Mover disco 1 de poste B a poste C\n",
            "Mover disco 2 de poste B a poste A\n",
            "Mover disco 1 de poste C a poste A\n",
            "Mover disco 3 de poste B a poste C\n",
            "Mover disco 1 de poste A a poste B\n",
            "Mover disco 2 de poste A a poste C\n",
            "Mover disco 1 de poste B a poste C\n",
            "Mover disco 6 de poste B a poste A\n",
            "Mover disco 1 de poste C a poste A\n",
            "Mover disco 2 de poste C a poste B\n",
            "Mover disco 1 de poste A a poste B\n",
            "Mover disco 3 de poste C a poste A\n",
            "Mover disco 1 de poste B a poste C\n",
            "Mover disco 2 de poste B a poste A\n",
            "Mover disco 1 de poste C a poste A\n",
            "Mover disco 4 de poste C a poste B\n",
            "Mover disco 1 de poste A a poste B\n",
            "Mover disco 2 de poste A a poste C\n",
            "Mover disco 1 de poste B a poste C\n",
            "Mover disco 3 de poste A a poste B\n",
            "Mover disco 1 de poste C a poste A\n",
            "Mover disco 2 de poste C a poste B\n",
            "Mover disco 1 de poste A a poste B\n",
            "Mover disco 5 de poste C a poste A\n",
            "Mover disco 1 de poste B a poste C\n",
            "Mover disco 2 de poste B a poste A\n",
            "Mover disco 1 de poste C a poste A\n",
            "Mover disco 3 de poste B a poste C\n",
            "Mover disco 1 de poste A a poste B\n",
            "Mover disco 2 de poste A a poste C\n",
            "Mover disco 1 de poste B a poste C\n",
            "Mover disco 4 de poste B a poste A\n",
            "Mover disco 1 de poste C a poste A\n",
            "Mover disco 2 de poste C a poste B\n",
            "Mover disco 1 de poste A a poste B\n",
            "Mover disco 3 de poste C a poste A\n",
            "Mover disco 1 de poste B a poste C\n",
            "Mover disco 2 de poste B a poste A\n",
            "Mover disco 1 de poste C a poste A\n",
            "Mover disco 7 de poste B a poste C\n",
            "Mover disco 1 de poste A a poste B\n",
            "Mover disco 2 de poste A a poste C\n",
            "Mover disco 1 de poste B a poste C\n",
            "Mover disco 3 de poste A a poste B\n",
            "Mover disco 1 de poste C a poste A\n",
            "Mover disco 2 de poste C a poste B\n",
            "Mover disco 1 de poste A a poste B\n",
            "Mover disco 4 de poste A a poste C\n",
            "Mover disco 1 de poste B a poste C\n",
            "Mover disco 2 de poste B a poste A\n",
            "Mover disco 1 de poste C a poste A\n",
            "Mover disco 3 de poste B a poste C\n",
            "Mover disco 1 de poste A a poste B\n",
            "Mover disco 2 de poste A a poste C\n",
            "Mover disco 1 de poste B a poste C\n",
            "Mover disco 5 de poste A a poste B\n",
            "Mover disco 1 de poste C a poste A\n",
            "Mover disco 2 de poste C a poste B\n",
            "Mover disco 1 de poste A a poste B\n",
            "Mover disco 3 de poste C a poste A\n",
            "Mover disco 1 de poste B a poste C\n",
            "Mover disco 2 de poste B a poste A\n",
            "Mover disco 1 de poste C a poste A\n",
            "Mover disco 4 de poste C a poste B\n",
            "Mover disco 1 de poste A a poste B\n",
            "Mover disco 2 de poste A a poste C\n",
            "Mover disco 1 de poste B a poste C\n",
            "Mover disco 3 de poste A a poste B\n",
            "Mover disco 1 de poste C a poste A\n",
            "Mover disco 2 de poste C a poste B\n",
            "Mover disco 1 de poste A a poste B\n",
            "Mover disco 6 de poste A a poste C\n",
            "Mover disco 1 de poste B a poste C\n",
            "Mover disco 2 de poste B a poste A\n",
            "Mover disco 1 de poste C a poste A\n",
            "Mover disco 3 de poste B a poste C\n",
            "Mover disco 1 de poste A a poste B\n",
            "Mover disco 2 de poste A a poste C\n",
            "Mover disco 1 de poste B a poste C\n",
            "Mover disco 4 de poste B a poste A\n",
            "Mover disco 1 de poste C a poste A\n",
            "Mover disco 2 de poste C a poste B\n",
            "Mover disco 1 de poste A a poste B\n",
            "Mover disco 3 de poste C a poste A\n",
            "Mover disco 1 de poste B a poste C\n",
            "Mover disco 2 de poste B a poste A\n",
            "Mover disco 1 de poste C a poste A\n",
            "Mover disco 5 de poste B a poste C\n",
            "Mover disco 1 de poste A a poste B\n",
            "Mover disco 2 de poste A a poste C\n",
            "Mover disco 1 de poste B a poste C\n",
            "Mover disco 3 de poste A a poste B\n",
            "Mover disco 1 de poste C a poste A\n",
            "Mover disco 2 de poste C a poste B\n",
            "Mover disco 1 de poste A a poste B\n",
            "Mover disco 4 de poste A a poste C\n",
            "Mover disco 1 de poste B a poste C\n",
            "Mover disco 2 de poste B a poste A\n",
            "Mover disco 1 de poste C a poste A\n",
            "Mover disco 3 de poste B a poste C\n",
            "Mover disco 1 de poste A a poste B\n",
            "Mover disco 2 de poste A a poste C\n",
            "Mover disco 1 de poste B a poste C\n"
          ]
        }
      ]
    },
    {
      "cell_type": "code",
      "source": [],
      "metadata": {
        "id": "CikiraOh-XVZ"
      },
      "id": "CikiraOh-XVZ",
      "execution_count": null,
      "outputs": []
    }
  ],
  "metadata": {
    "kernelspec": {
      "display_name": "Python 3 (ipykernel)",
      "language": "python",
      "name": "python3"
    },
    "language_info": {
      "codemirror_mode": {
        "name": "ipython",
        "version": 3
      },
      "file_extension": ".py",
      "mimetype": "text/x-python",
      "name": "python",
      "nbconvert_exporter": "python",
      "pygments_lexer": "ipython3",
      "version": "3.9.7"
    },
    "colab": {
      "provenance": [],
      "include_colab_link": true
    }
  },
  "nbformat": 4,
  "nbformat_minor": 5
}