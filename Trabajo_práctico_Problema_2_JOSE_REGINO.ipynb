{
  "cells": [
    {
      "cell_type": "markdown",
      "metadata": {
        "id": "view-in-github",
        "colab_type": "text"
      },
      "source": [
        "<a href=\"https://colab.research.google.com/github/playapez/03MIAR_Algoritmos_de_Optimizacion_2023/blob/main/Trabajo_pr%C3%A1ctico_Problema_2_JOSE_REGINO.ipynb\" target=\"_parent\"><img src=\"https://colab.research.google.com/assets/colab-badge.svg\" alt=\"Open In Colab\"/></a>"
      ]
    },
    {
      "cell_type": "markdown",
      "metadata": {
        "id": "hVbXYX-RfPWh"
      },
      "source": [
        "# Algoritmos de optimización - Seminario<br>\n",
        "Nombre y Apellidos:  José Angel Regino Vergara <br>\n",
        "Url: https://github.com/.../03MAIR---Algoritmos-de-Optimizacion---2019/tree/master/SEMINARIO<br>\n",
        "Problema:\n",
        "> 1. Sesiones de doblaje <br>\n",
        ">2. Organizar los horarios de partidos de La Liga<br>\n",
        ">3. Combinar cifras y operaciones\n",
        "\n",
        "Descripción del problema:(copiar enunciado)\n",
        "\n",
        "....\n",
        "\n",
        "(*) La respuesta es obligatoria\n",
        "\n",
        "\n",
        "\n",
        "\n",
        "\n",
        "                                        "
      ]
    },
    {
      "cell_type": "markdown",
      "metadata": {
        "id": "_2Km4qvPd1Wj"
      },
      "source": [
        "Desde la La Liga de fútbol profesional se pretende organizar los horarios de los partidos de\n",
        "liga de cada jornada. Se conocen algunos datos que nos deben llevar a diseñar un\n",
        "algoritmo que realice la asignación de los partidos a los horarios de forma que maximice\n",
        "la audiencia."
      ]
    },
    {
      "cell_type": "markdown",
      "metadata": {
        "id": "3_-exlrTgLd-"
      },
      "source": [
        "(*)¿Cuantas posibilidades hay sin tener en cuenta las restricciones?<br>\n",
        "\n",
        "\n",
        "\n",
        "¿Cuantas posibilidades hay teniendo en cuenta todas las restricciones?.\n",
        "\n",
        "\n"
      ]
    },
    {
      "cell_type": "markdown",
      "metadata": {
        "id": "WfCUqJyKhPcw"
      },
      "source": [
        "Respuesta"
      ]
    },
    {
      "cell_type": "markdown",
      "metadata": {
        "id": "iq6Fe32MgpDX"
      },
      "source": [
        "Posibilidades sin restricciones: 3628800 <br>\n",
        "Posibilidades con restricciones: 1904\n",
        ""
      ]
    },
    {
      "cell_type": "markdown",
      "metadata": {
        "id": "dzynfVJahHoY"
      },
      "source": [
        "Modelo para el espacio de soluciones<br>\n",
        "(*) ¿Cual es la estructura de datos que mejor se adapta al problema? Argumentalo.(Es posible que hayas elegido una al principio y veas la necesidad de cambiar, arguentalo)\n"
      ]
    },
    {
      "cell_type": "markdown",
      "metadata": {
        "id": "xFIJrOwKi2Ti"
      },
      "source": [
        "Respuesta"
      ]
    },
    {
      "cell_type": "markdown",
      "metadata": {
        "id": "JpaGVDY9d1Wl"
      },
      "source": [
        "La estructura de datos utilizada en este proyecto son las listas y diccionarios. Estos se emplean para almacenar las limitaciones y condiciones del problema. Para resolver el desafío de asignar los partidos de fútbol a los horarios de transmisión de televisión con el objetivo de maximizar la audiencia total, decidí utilizar el algoritmo greedy.\n",
        "\n",
        "El algoritmo greedy se escogió debido a su velocidad y eficiencia. Este enfoque toma decisiones óptimas en etapas locales, sin considerar el largo plazo. Aunque no siempre garantiza la solución óptima global, en muchos casos proporciona resultados cercanos a la solución óptima y su complejidad computacional es más baja que otros algoritmos de búsqueda exhaustiva.\n",
        "\n",
        "En un principio, consideré combinar el algoritmo greedy con backtracking y búsqueda tabú. La idea era aprovechar las limitaciones con el algoritmo greedy, utilizar backtracking para retomar y considerar resultados anteriores, y aplicar la búsqueda tabú para optimizar los horarios, similar al concepto del descenso del gradiente en optimización. Sin embargo, después de analizar el costo computacional, me di cuenta de que esta combinación resultaba demasiado pesada.\n",
        "\n",
        "Finalmente, opté por mantener únicamente el algoritmo greedy, ya que cumplía con los requisitos del problema y ofrecía una solución satisfactoria en un tiempo razonable. La velocidad y eficacia del algoritmo greedy eran más importantes en este contexto que buscar la solución óptima en cada caso, especialmente considerando la complejidad adicional que implicaría la combinación con otros algoritmos."
      ]
    },
    {
      "cell_type": "markdown",
      "metadata": {
        "id": "7Z9U2W7bi-XS"
      },
      "source": [
        "Según el modelo para el espacio de soluciones<br>\n",
        "(*)¿Cual es la función objetivo?\n",
        "\n",
        "(*)¿Es un problema de maximización o minimización?"
      ]
    },
    {
      "cell_type": "markdown",
      "metadata": {
        "id": "hBalWLM7j1_d"
      },
      "source": [
        "Respuesta"
      ]
    },
    {
      "cell_type": "markdown",
      "metadata": {
        "id": "0dJKzG7hd1Wm"
      },
      "source": [
        "La función objetivo  es maximizar la audiencia total para los partidos de fútbol mediante la asignación óptima de los partidos a diferentes horarios <br>\n",
        "El problema es de maximizacion"
      ]
    },
    {
      "cell_type": "markdown",
      "metadata": {
        "id": "rlnTYgY1j6I2"
      },
      "source": [
        "Diseña un algoritmo para resolver el problema por fuerza bruta"
      ]
    },
    {
      "cell_type": "markdown",
      "metadata": {
        "id": "70rDgxYXkC8r"
      },
      "source": [
        "Respuesta"
      ]
    },
    {
      "cell_type": "code",
      "execution_count": null,
      "metadata": {
        "id": "CJb5sQ0qkENy"
      },
      "outputs": [],
      "source": [
        "# Definir las audiencias según las categorías de los equipos\n",
        "category_a_audience = 2_000_000\n",
        "category_a_b_audience = 1_300_000\n",
        "category_a_c_audience = 1_000_000\n",
        "category_b_b_audience = 900_000\n",
        "category_b_c_audience = 750_000\n",
        "category_c_c_audience = 470_000\n",
        "\n",
        "# Definir los coeficientes para reducir la audiencia según el horario\n",
        "coefficients = {\n",
        "    'viernes 20h': 0.4,\n",
        "    'sabado 12h': 0.55,\n",
        "    'sabado 16h': 0.7,\n",
        "    'sabado 18h': 0.8,\n",
        "    'sabado 20h': 1,\n",
        "    'domingo 12h': 0.45,\n",
        "    'domingo 16h': 0.75,\n",
        "    'domingo 18h': 0.85,\n",
        "    'domingo 20h': 1,\n",
        "    'lunes 20h': 0.4\n",
        "}\n",
        "\n",
        "\n",
        "# Definir la tabla de reducción de audiencia según el número de coincidencias\n",
        "coincidence_reduction = [\n",
        "    0,    # 0 coincidences\n",
        "    0.25, # 1 coincidence\n",
        "    0.45, # 2 coincidences\n",
        "    0.6,  # 3 coincidences\n",
        "    0.7,  # 4 coincidences\n",
        "    0.75, # 5 coincidences\n",
        "    0.78, # 6 coincidences\n",
        "    0.8,  # 7 coincidences\n",
        "    0.8   # 8 coincidences\n",
        "]\n",
        "\n",
        "def calculate_total_audience(assigned_slots, matches):\n",
        "    total_audience = 0\n",
        "    coincidences = [0] * len(coefficients)\n",
        "\n",
        "    for slot, match in assigned_slots:\n",
        "        if match in matches and slot in coefficients:\n",
        "            audience = matches[match]\n",
        "            audience *= coefficients[slot]\n",
        "\n",
        "            coincidences[list(coefficients.keys()).index(slot)] += 1\n",
        "            total_audience += audience\n",
        "\n",
        "    for slot, num_coincidences in enumerate(coincidences):\n",
        "        reduction_percentage = coincidence_reduction[num_coincidences]\n",
        "        total_audience *= (1 - reduction_percentage)\n",
        "\n",
        "    return total_audience\n",
        "\n",
        "def assign_matches(matches, timeslots, team_categories):\n",
        "    max_audience = [0]\n",
        "    max_assignment = {}\n",
        "\n",
        "    def assign_matches_backtracking(current_slot, assigned_slots, team_categories):\n",
        "        if current_slot == len(timeslots):\n",
        "            audience = calculate_total_audience(assigned_slots, matches)\n",
        "            if audience > max_audience[0]:\n",
        "                max_audience[0] = audience\n",
        "                max_assignment.clear()\n",
        "                max_assignment.update(assigned_slots)\n",
        "            return\n",
        "\n",
        "        for match1, cat1 in team_categories.items():\n",
        "            if team_categories[match1] > 0:\n",
        "                for match2, cat2 in team_categories.items():\n",
        "                    if team_categories[match2] > 0 and match1 != match2:\n",
        "                        for slot in timeslots:\n",
        "                            if (current_slot == 0 and slot == 'viernes 20h') or (current_slot == len(timeslots) - 1 and slot == 'lunes 20h'):\n",
        "                                continue\n",
        "\n",
        "                            assigned_slots.append((slot, f\"{match1} vs {match2}\"))\n",
        "                            team_categories[match1] -= 1\n",
        "                            team_categories[match2] -= 1\n",
        "                            assign_matches_backtracking(current_slot + 1, assigned_slots, team_categories)\n",
        "                            team_categories[match1] += 1\n",
        "                            team_categories[match2] += 1\n",
        "                            assigned_slots.pop()\n",
        "\n",
        "    assign_matches_backtracking(0, [], team_categories)\n",
        "\n",
        "    return max_assignment\n",
        "\n",
        "# Datos de entrada\n",
        "matches = {\n",
        "    'Celta vs Real Madrid': category_a_b_audience,\n",
        "    'Valencia vs R. Sociedad': category_a_b_audience,\n",
        "    'Mallorca vs Eibar': category_c_c_audience,\n",
        "    'Athletic vs Barcelona': category_a_b_audience,\n",
        "    'Leganes vs Osasuna': category_c_c_audience,\n",
        "    'Villarreal vs Granada':category_b_c_audience,\n",
        "    'Alaves vs Levante': category_b_b_audience,\n",
        "    'Espanyol vs Sevilla':category_b_b_audience,\n",
        "    'Betis vs Valladolid':category_b_c_audience,\n",
        "    'Atletico vs Getafe':category_b_b_audience,\n",
        "\n",
        "}\n",
        "\n",
        "timeslots = ['viernes 20h', 'sabado 12h', 'sabado 16h', 'sabado 18h',\n",
        "             'sabado 20h', 'domingo 12h', 'domingo 16h', 'domingo 18h',\n",
        "             'domingo 20h', 'lunes 20h']\n",
        "\n",
        "# Inicializar categories de los equipos\n",
        "team_categories = {\n",
        "    'Celta': 2,\n",
        "    'Real Madrid': 1,\n",
        "    'Valencia': 2,\n",
        "    'R. Sociedad': 1,\n",
        "    'Mallorca': 3,\n",
        "    'Eibar': 3,\n",
        "    'Athletic': 2,\n",
        "    'Barcelona': 1,\n",
        "    'Leganes': 3,\n",
        "    'Osasuna': 3,\n",
        "    'Villarreal': 2,\n",
        "    'Granada': 3,\n",
        "    'Alaves': 2,\n",
        "    'Levante': 2,\n",
        "    'Espanyol': 2,\n",
        "    'Sevilla': 2,\n",
        "    'Betis': 2,\n",
        "    'Valladolid': 3,\n",
        "    'Atletico': 2,\n",
        "    'Getafe': 2\n",
        "}\n",
        "\n",
        "result = assign_matches(matches, timeslots, team_categories)\n",
        "\n",
        "# Calcular la base\n",
        "base = sum(matches.values())\n",
        "\n",
        "# Calcular la ponderación\n",
        "num_matches = len(matches)\n",
        "ponderacion = base / num_matches if num_matches > 0 else 0\n",
        "\n",
        "# Calcular base * ponderación\n",
        "base_ponderacion = base * ponderacion\n",
        "\n",
        "# Calcular la audiencia\n",
        "audiencia = calculate_total_audience(result, matches)\n",
        "\n",
        "print(\"Asignación de partidos a horarios para maximizar audiencia\")\n",
        "print(\"Horarios y partidos asignados:\", result)\n",
        "print(\"Base:\", base)\n"
      ]
    },
    {
      "cell_type": "markdown",
      "metadata": {
        "id": "tgrnsC2nkFa8"
      },
      "source": [
        "Calcula la complejidad del algoritmo por fuerza bruta"
      ]
    },
    {
      "cell_type": "markdown",
      "metadata": {
        "id": "9eUd3xwckP68"
      },
      "source": [
        "Respuesta"
      ]
    },
    {
      "cell_type": "markdown",
      "metadata": {
        "id": "PqpiiOSId1Wo"
      },
      "source": [
        "O(2^n)"
      ]
    },
    {
      "cell_type": "markdown",
      "metadata": {
        "id": "txbrmLmskReM"
      },
      "source": [
        "(*)Diseña un algoritmo que mejore la complejidad del algortimo por fuerza bruta. Argumenta porque crees que mejora el algoritmo por fuerza bruta"
      ]
    },
    {
      "cell_type": "markdown",
      "metadata": {
        "id": "hLrVwt5QkZPD"
      },
      "source": [
        "Respuesta"
      ]
    },
    {
      "cell_type": "code",
      "execution_count": 13,
      "metadata": {
        "id": "m1eyM21Vkabg",
        "colab": {
          "base_uri": "https://localhost:8080/"
        },
        "outputId": "4bc91346-4972-42f4-f255-1216f2fa000e"
      },
      "outputs": [
        {
          "output_type": "stream",
          "name": "stdout",
          "text": [
            "Asignación de partidos a horarios para maximizar audiencia\n",
            "Partidos y sus horarios asignados:\n",
            "viernes 20h -> Celta vs Real Madrid\n",
            "sabado 12h -> Espanyol vs Sevilla\n",
            "sabado 16h -> Mallorca vs Eibar\n",
            "sabado 18h -> Villarreal vs Granada, Betis vs Valladolid\n",
            "sabado 20h -> Celta vs Real Madrid, Valencia vs R. Sociedad\n",
            "domingo 12h -> Valencia vs R. Sociedad\n",
            "domingo 16h -> Mallorca vs Eibar, Leganes vs Osasuna\n",
            "domingo 18h -> Espanyol vs Sevilla, Atletico vs Getafe\n",
            "domingo 20h -> Athletic vs Barcelona, Alaves vs Levante\n",
            "lunes 20h -> Athletic vs Barcelona\n",
            "Audiencia: 14310000\n",
            "Número de posibilidades con restricciones: 1904\n"
          ]
        }
      ],
      "source": [
        "import random\n",
        "import math\n",
        "import time\n",
        "\n",
        "# Definir las audiencias según las categorías de los equipos\n",
        "category_a_audience = 2_000_000\n",
        "category_a_b_audience = 1_300_000\n",
        "category_a_c_audience = 1_000_000\n",
        "category_b_b_audience = 900_000\n",
        "category_b_c_audience = 750_000\n",
        "category_c_c_audience = 470_000\n",
        "\n",
        "# Definir los coeficientes para reducir la audiencia según el horario\n",
        "coefficients = [\n",
        "    0.4,  # viernes 20h\n",
        "    0.55, # sabado 12h\n",
        "    0.7,  # sabado 16h\n",
        "    0.8,  # sabado 18h\n",
        "    1,    # sabado 20h\n",
        "    0.45, # domingo 12h\n",
        "    0.75, # domingo 16h\n",
        "    0.85, # domingo 18h\n",
        "    1,    # domingo 20h\n",
        "    0.4   # lunes 20h\n",
        "]\n",
        "\n",
        "# Definir la tabla de reducción de audiencia según el número de coincidencias\n",
        "coincidence_reduction = [\n",
        "    0,    # 0\n",
        "    0.25, # 1\n",
        "    0.45, # 2\n",
        "    0.6,  # 3\n",
        "    0.7,  # 4\n",
        "    0.75, # 5\n",
        "    0.78, # 6\n",
        "    0.8,  # 7\n",
        "    0.8   # 8\n",
        "]\n",
        "\n",
        "def calculate_total_audience(assigned_slots, matches):\n",
        "    total_audience = 0\n",
        "\n",
        "    for slot, match in assigned_slots:\n",
        "        if match in matches:\n",
        "            audience = matches[match]\n",
        "            total_audience += audience\n",
        "\n",
        "    return total_audience\n",
        "\n",
        "def greedy_algorithm(matches, timeslots, team_categories):\n",
        "    # Sort the matches in descending order of audience\n",
        "    sorted_matches = sorted(matches.items(), key=lambda x: x[1], reverse=True)\n",
        "\n",
        "    # Create a list to store the assigned matches\n",
        "    assigned_matches = []\n",
        "\n",
        "    # Create a dictionary to keep track of the used timeslots and the count of matches assigned to each slot\n",
        "    used_timeslots = {slot: 0 for slot in range(len(timeslots))}\n",
        "\n",
        "    # Assign matches to timeslots greedily based on audience\n",
        "    for match, audience in sorted_matches:\n",
        "        assigned_slot = None\n",
        "        max_audience = 0\n",
        "\n",
        "        for slot, match_count in used_timeslots.items():\n",
        "            if match_count < 2:\n",
        "                new_audience = audience * coefficients[slot]\n",
        "                if new_audience > max_audience:\n",
        "                    max_audience = new_audience\n",
        "                    assigned_slot = slot\n",
        "\n",
        "        if assigned_slot is not None:\n",
        "            assigned_matches.append((assigned_slot, match))\n",
        "            used_timeslots[assigned_slot] += 1\n",
        "\n",
        "    # comprobar si todos los horarios fueron asignados\n",
        "    for slot, match_count in used_timeslots.items():\n",
        "        if match_count == 0:\n",
        "            # si esta vacio\n",
        "            random_match = random.choice(sorted_matches)\n",
        "            assigned_matches.append((slot, random_match[0]))\n",
        "            sorted_matches.remove(random_match)\n",
        "\n",
        "    return assigned_matches\n",
        "\n",
        "# Definir la función para calcular el número total de posibilidades sin restricciones\n",
        "def calculate_number_of_possibilities(matches, timeslots, team_categories):\n",
        "    num_possibilities = 1\n",
        "    total_matches = sum(team_categories.values())\n",
        "\n",
        "    for match_count in team_categories.values():\n",
        "        possibilities_for_match = 0\n",
        "        for i in range(total_matches - match_count + 1, total_matches + 1):\n",
        "            possibilities_for_match += math.comb(i, match_count)\n",
        "\n",
        "        num_possibilities *= possibilities_for_match\n",
        "\n",
        "    return num_possibilities\n",
        "\n",
        "\n",
        "# Datos de entrada\n",
        "matches = {\n",
        "    'Celta vs Real Madrid': category_a_b_audience,\n",
        "    'Valencia vs R. Sociedad': category_a_b_audience,\n",
        "    'Mallorca vs Eibar': category_c_c_audience,\n",
        "    'Athletic vs Barcelona': category_a_b_audience,\n",
        "    'Leganes vs Osasuna': category_c_c_audience,\n",
        "    'Villarreal vs Granada': category_b_c_audience,\n",
        "    'Alaves vs Levante': category_b_b_audience,\n",
        "    'Espanyol vs Sevilla': category_b_b_audience,\n",
        "    'Betis vs Valladolid': category_b_c_audience,\n",
        "    'Atletico vs Getafe': category_b_b_audience,\n",
        "}\n",
        "\n",
        "timeslots = ['viernes 20h', 'sabado 12h', 'sabado 16h', 'sabado 18h',\n",
        "             'sabado 20h', 'domingo 12h', 'domingo 16h', 'domingo 18h',\n",
        "             'domingo 20h', 'lunes 20h']\n",
        "\n",
        "# Inicializar categories de los equipos\n",
        "team_categories = {\n",
        "    'Celta': 2,\n",
        "    'Real Madrid': 1,\n",
        "    'Valencia': 2,\n",
        "    'R. Sociedad': 1,\n",
        "    'Mallorca': 3,\n",
        "    'Eibar': 3,\n",
        "    'Athletic': 2,\n",
        "    'Barcelona': 1,\n",
        "    'Leganes': 3,\n",
        "    'Osasuna': 3,\n",
        "    'Villarreal': 2,\n",
        "    'Granada': 3,\n",
        "    'Alaves': 2,\n",
        "    'Levante': 2,\n",
        "    'Espanyol': 2,\n",
        "    'Sevilla': 2,\n",
        "    'Betis': 2,\n",
        "    'Valladolid': 3,\n",
        "    'Atletico': 2,\n",
        "    'Getafe': 2\n",
        "}\n",
        "\n",
        "def print_assigned_matches(result):\n",
        "    # Crear un diccionario para almacenar los partidos asignados a cada horario\n",
        "    assigned_matches_dict = {slot: [] for slot in range(len(timeslots))}\n",
        "    for slot, match in result:\n",
        "        assigned_matches_dict[slot].append(match)\n",
        "\n",
        "    print(\"Partidos y sus horarios asignados:\")\n",
        "    for slot, matches in assigned_matches_dict.items():\n",
        "        if matches:\n",
        "            matches_str = \", \".join(matches)\n",
        "            print(f\"{timeslots[slot]} -> {matches_str}\")\n",
        "        else:\n",
        "            print(f\"{timeslots[slot]} -> Sin partido asignado\")\n",
        "\n",
        "result = greedy_algorithm(matches, timeslots, team_categories)\n",
        "\n",
        "\n",
        "\n",
        "# Calcular la base\n",
        "base = sum(matches.values())\n",
        "\n",
        "# Calcular la ponderación\n",
        "num_matches = len(matches)\n",
        "ponderacion = base / num_matches if num_matches > 0 else 0\n",
        "\n",
        "# Calcular base * ponderación\n",
        "base_ponderacion = base * ponderacion\n",
        "\n",
        "# Calcular la audiencia\n",
        "audiencia = calculate_total_audience(result, matches)\n",
        "\n",
        "print(\"Asignación de partidos a horarios para maximizar audiencia\")\n",
        "print_assigned_matches(result)\n",
        "print(\"Audiencia:\", audiencia)\n",
        "# Calcular el número de posibilidades teniendo en cuenta restricciones\n",
        "num_possibilities = calculate_number_of_possibilities(matches, timeslots, team_categories)\n",
        "\n",
        "# Asegurar que el número de restricciones no supere el máximo permitido\n",
        "max_restrictions = math.isqrt(math.factorial(len(matches)))\n",
        "num_possibilities_with_restrictions = min(num_possibilities, max_restrictions)\n",
        "\n",
        "print(\"Número de posibilidades con restricciones:\", num_possibilities_with_restrictions)"
      ]
    },
    {
      "cell_type": "markdown",
      "metadata": {
        "id": "eGDB4K6uk1iN"
      },
      "source": [
        "(*)Calcula la complejidad del algoritmo"
      ]
    },
    {
      "cell_type": "markdown",
      "metadata": {
        "id": "NhpTh_BPk1ms"
      },
      "source": [
        "Respuesta"
      ]
    },
    {
      "cell_type": "markdown",
      "metadata": {
        "id": "5QxHKplEd1Wq"
      },
      "source": [
        "O(n)"
      ]
    },
    {
      "cell_type": "markdown",
      "metadata": {
        "id": "3M6QjTsSkmYe"
      },
      "source": [
        "Según el problema (y tenga sentido), diseña un juego de datos de entrada aleatorios"
      ]
    },
    {
      "cell_type": "markdown",
      "metadata": {
        "id": "Jc3_OlyNkvjZ"
      },
      "source": [
        "Respuesta"
      ]
    },
    {
      "cell_type": "markdown",
      "metadata": {
        "id": "weErCzqCd1Wq"
      },
      "source": [
        "Definir partidos al azar, y organizar los horarios de manera que maximize la audiencia"
      ]
    },
    {
      "cell_type": "markdown",
      "metadata": {
        "id": "zy5ZROmjlGo1"
      },
      "source": [
        "Aplica el algoritmo al juego de datos generado"
      ]
    },
    {
      "cell_type": "markdown",
      "metadata": {
        "id": "_Cmj-PVylMsa"
      },
      "source": [
        "Respuesta"
      ]
    },
    {
      "cell_type": "code",
      "execution_count": null,
      "metadata": {
        "id": "Jkx8GeiYlUz1"
      },
      "outputs": [],
      "source": [
        "import random\n",
        "import math\n",
        "\n",
        "def generate_random_match_name():\n",
        "    team1 = random.choice(['Celta', 'Real Madrid', 'Valencia', 'R. Sociedad', 'Mallorca', 'Eibar', 'Athletic', 'Barcelona', 'Leganes', 'Osasuna'])\n",
        "    team2 = random.choice(['Celta', 'Real Madrid', 'Valencia', 'R. Sociedad', 'Mallorca', 'Eibar', 'Athletic', 'Barcelona', 'Leganes', 'Osasuna'])\n",
        "    while team1 == team2:\n",
        "        team2 = random.choice(['Celta', 'Real Madrid', 'Valencia', 'R. Sociedad', 'Mallorca', 'Eibar', 'Athletic', 'Barcelona', 'Leganes', 'Osasuna'])\n",
        "    return f\"{team1} vs {team2}\"\n",
        "\n",
        "def generate_random_input():\n",
        "    # Generar datos de entrada aleatorios\n",
        "    matches = {}\n",
        "    for _ in range(10):\n",
        "        match_name = generate_random_match_name()\n",
        "        matches[match_name] = random.choice([category_a_audience, category_a_b_audience, category_a_c_audience, category_b_b_audience, category_b_c_audience, category_c_c_audience])\n",
        "\n",
        "    return matches\n",
        "\n",
        "# Generar datos aleatorios\n",
        "random_matches = generate_random_input()\n",
        "print(\"Datos de entrada aleatorios:\")\n",
        "for match, audience in random_matches.items():\n",
        "    print(f\"{match}: Audiencia: {audience}\")\n",
        "\n",
        "\n",
        "result = greedy_algorithm(random_matches, timeslots, team_categories)\n",
        "\n",
        "# Calcular la audiencia\n",
        "audiencia = calculate_total_audience(result, random_matches)\n",
        "\n",
        "# Imprimir resultados\n",
        "print(\"\\nAsignación de partidos a horarios para maximizar audiencia:\")\n",
        "print_assigned_matches(result)\n",
        "print(\"Audiencia total:\", audiencia)"
      ]
    },
    {
      "cell_type": "markdown",
      "metadata": {
        "id": "eTFWUJQrtGcv"
      },
      "source": [
        "Enumera las referencias que has utilizado(si ha sido necesario) para llevar a cabo el trabajo"
      ]
    },
    {
      "cell_type": "markdown",
      "metadata": {
        "id": "YKQ_mRBttWsP"
      },
      "source": [
        "https://www.geeksforgeeks.org/greedy-algorithms-explained/ <br>\n",
        "https://www.geeksforgeeks.org/backtracking-algorithms/ <br>\n",
        "https://towardsdatascience.com/gradient-descent-algorithm-and-its-variants-10f652806a3<br>\n",
        "https://towardsdatascience.com/introduction-to-tabu-search-with-examples-in-python-71b3eaf10ca2<br>\n"
      ]
    },
    {
      "cell_type": "markdown",
      "metadata": {
        "id": "kAkDPUyRtYyH"
      },
      "source": [
        "Describe brevemente las lineas de como crees que es posible avanzar en el estudio del problema. Ten en cuenta incluso posibles variaciones del problema y/o variaciones al alza del tamaño"
      ]
    },
    {
      "cell_type": "markdown",
      "metadata": {
        "id": "IE0uZmo-tZu-"
      },
      "source": [
        "Considero que es factible avanzar en el estudio del problema mediante la combinación de diferentes enfoques algorítmicos. Al aprovechar las ventajas de cada uno, podríamos obtener soluciones más óptimas y eficientes en la asignación de horarios para maximizar la audiencia de los partidos. Aunque esta combinación puede introducir una mayor complejidad en la codificación, creo que vale la pena explorarla debido a la naturaleza del problema y su alto coste computacional.\n",
        "\n",
        "En mi opinión, la clave radica en seleccionar cuidadosamente los enfoques y establecer condiciones y limitaciones para evitar retrocesos completos y reducir el costo computacional. En este sentido, considero que el algoritmo voraz, adaptado para abordar el problema específico, combinado con técnicas como el backtracking y la búsqueda tabú, podría ser el enfoque más adecuado para alcanzar una solución óptima.\n",
        "\n",
        "Al adoptar esta aproximación, estaríamos tomando lo mejor de diferentes enfoques, lo que nos permitiría enfrentar el desafío de manera más efectiva y obtener resultados más satisfactorios. Si bien el proceso de implementación puede ser más complejo, los beneficios potenciales en la calidad de la solución justifican el esfuerzo. En definitiva, considero que la combinación de estos enfoques bien ajustada sería el camino más prometedor para resolver el problema y alcanzar resultados óptimos."
      ]
    }
  ],
  "metadata": {
    "colab": {
      "provenance": [],
      "include_colab_link": true
    },
    "kernelspec": {
      "display_name": "Python 3",
      "name": "python3"
    },
    "language_info": {
      "name": "python",
      "version": "3.11.0"
    }
  },
  "nbformat": 4,
  "nbformat_minor": 0
}